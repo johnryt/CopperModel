{
 "cells": [
  {
   "cell_type": "markdown",
   "metadata": {
    "toc": true
   },
   "source": [
    "<h1>Table of Contents<span class=\"tocSkip\"></span></h1>\n",
    "<div class=\"toc\"><ul class=\"toc-item\"><li><span><a href=\"#Quickstart:-Political-Democracy\" data-toc-modified-id=\"Quickstart:-Political-Democracy-1\"><span class=\"toc-item-num\">1&nbsp;&nbsp;</span>Quickstart: Political Democracy</a></span></li></ul></div>"
   ]
  },
  {
   "cell_type": "markdown",
   "metadata": {},
   "source": [
    "# Quickstart: Political Democracy\n",
    "The model \"Poltical Democracy\" from Kenneth A. Bollen book is a part of **semopy** package. The model's description and the respective data can be retrieved via invoking *get_model* and *get_data* methods from the *political_democracy* submodule of the package."
   ]
  },
  {
   "cell_type": "code",
   "execution_count": 2,
   "metadata": {},
   "outputs": [],
   "source": [
    "import numpy as np\n",
    "import semopy\n",
    "from semopy.political_democracy import get_data, get_model\n",
    "\n",
    "np.random.seed(2019)\n",
    "model_desc = get_model()\n",
    "data = get_data()"
   ]
  },
  {
   "cell_type": "code",
   "execution_count": 3,
   "metadata": {},
   "outputs": [
    {
     "name": "stdout",
     "output_type": "stream",
     "text": [
      "# measurement model\n",
      "ind60 =~ x1 + x2 + x3\n",
      "dem60 =~ y1 + y2 + y3 + y4\n",
      "dem65 =~ y5 + y6 + y7 + y8\n",
      "# regressions\n",
      "dem60 ~ ind60\n",
      "dem65 ~ ind60 + dem60\n",
      "# residual correlations\n",
      "y1 ~~ y5\n",
      "y2 ~~ y4 + y6\n",
      "y3 ~~ y7\n",
      "y4 ~~ y8\n",
      "y6 ~~ y8\n",
      "\n"
     ]
    }
   ],
   "source": [
    "print(model_desc)"
   ]
  },
  {
   "cell_type": "code",
   "execution_count": 5,
   "metadata": {},
   "outputs": [
    {
     "data": {
      "text/html": [
       "<div>\n",
       "<style scoped>\n",
       "    .dataframe tbody tr th:only-of-type {\n",
       "        vertical-align: middle;\n",
       "    }\n",
       "\n",
       "    .dataframe tbody tr th {\n",
       "        vertical-align: top;\n",
       "    }\n",
       "\n",
       "    .dataframe thead th {\n",
       "        text-align: right;\n",
       "    }\n",
       "</style>\n",
       "<table border=\"1\" class=\"dataframe\">\n",
       "  <thead>\n",
       "    <tr style=\"text-align: right;\">\n",
       "      <th></th>\n",
       "      <th>y1</th>\n",
       "      <th>y2</th>\n",
       "      <th>y3</th>\n",
       "      <th>y4</th>\n",
       "      <th>y5</th>\n",
       "      <th>y6</th>\n",
       "      <th>y7</th>\n",
       "      <th>y8</th>\n",
       "      <th>x1</th>\n",
       "      <th>x2</th>\n",
       "      <th>x3</th>\n",
       "    </tr>\n",
       "  </thead>\n",
       "  <tbody>\n",
       "    <tr>\n",
       "      <th>1</th>\n",
       "      <td>2.50</td>\n",
       "      <td>0.000000</td>\n",
       "      <td>3.333333</td>\n",
       "      <td>0.000000</td>\n",
       "      <td>1.250000</td>\n",
       "      <td>0.000000</td>\n",
       "      <td>3.726360</td>\n",
       "      <td>3.333333</td>\n",
       "      <td>4.442651</td>\n",
       "      <td>3.637586</td>\n",
       "      <td>2.557615</td>\n",
       "    </tr>\n",
       "    <tr>\n",
       "      <th>2</th>\n",
       "      <td>1.25</td>\n",
       "      <td>0.000000</td>\n",
       "      <td>3.333333</td>\n",
       "      <td>0.000000</td>\n",
       "      <td>6.250000</td>\n",
       "      <td>1.100000</td>\n",
       "      <td>6.666666</td>\n",
       "      <td>0.736999</td>\n",
       "      <td>5.384495</td>\n",
       "      <td>5.062595</td>\n",
       "      <td>3.568079</td>\n",
       "    </tr>\n",
       "    <tr>\n",
       "      <th>3</th>\n",
       "      <td>7.50</td>\n",
       "      <td>8.800000</td>\n",
       "      <td>9.999998</td>\n",
       "      <td>9.199991</td>\n",
       "      <td>8.750000</td>\n",
       "      <td>8.094061</td>\n",
       "      <td>9.999998</td>\n",
       "      <td>8.211809</td>\n",
       "      <td>5.961005</td>\n",
       "      <td>6.255750</td>\n",
       "      <td>5.224433</td>\n",
       "    </tr>\n",
       "    <tr>\n",
       "      <th>4</th>\n",
       "      <td>8.90</td>\n",
       "      <td>8.800000</td>\n",
       "      <td>9.999998</td>\n",
       "      <td>9.199991</td>\n",
       "      <td>8.907948</td>\n",
       "      <td>8.127979</td>\n",
       "      <td>9.999998</td>\n",
       "      <td>4.615086</td>\n",
       "      <td>6.285998</td>\n",
       "      <td>7.567863</td>\n",
       "      <td>6.267495</td>\n",
       "    </tr>\n",
       "    <tr>\n",
       "      <th>5</th>\n",
       "      <td>10.00</td>\n",
       "      <td>3.333333</td>\n",
       "      <td>9.999998</td>\n",
       "      <td>6.666666</td>\n",
       "      <td>7.500000</td>\n",
       "      <td>3.333333</td>\n",
       "      <td>9.999998</td>\n",
       "      <td>6.666666</td>\n",
       "      <td>5.863631</td>\n",
       "      <td>6.818924</td>\n",
       "      <td>4.573679</td>\n",
       "    </tr>\n",
       "    <tr>\n",
       "      <th>...</th>\n",
       "      <td>...</td>\n",
       "      <td>...</td>\n",
       "      <td>...</td>\n",
       "      <td>...</td>\n",
       "      <td>...</td>\n",
       "      <td>...</td>\n",
       "      <td>...</td>\n",
       "      <td>...</td>\n",
       "      <td>...</td>\n",
       "      <td>...</td>\n",
       "      <td>...</td>\n",
       "    </tr>\n",
       "    <tr>\n",
       "      <th>71</th>\n",
       "      <td>5.40</td>\n",
       "      <td>9.999998</td>\n",
       "      <td>6.666666</td>\n",
       "      <td>3.333333</td>\n",
       "      <td>3.750000</td>\n",
       "      <td>6.666666</td>\n",
       "      <td>6.666666</td>\n",
       "      <td>1.485166</td>\n",
       "      <td>4.477337</td>\n",
       "      <td>3.091042</td>\n",
       "      <td>1.987909</td>\n",
       "    </tr>\n",
       "    <tr>\n",
       "      <th>72</th>\n",
       "      <td>7.50</td>\n",
       "      <td>8.800000</td>\n",
       "      <td>9.999998</td>\n",
       "      <td>6.066666</td>\n",
       "      <td>7.500000</td>\n",
       "      <td>6.666666</td>\n",
       "      <td>9.999998</td>\n",
       "      <td>6.666666</td>\n",
       "      <td>5.337538</td>\n",
       "      <td>5.631212</td>\n",
       "      <td>3.491004</td>\n",
       "    </tr>\n",
       "    <tr>\n",
       "      <th>73</th>\n",
       "      <td>7.50</td>\n",
       "      <td>7.000000</td>\n",
       "      <td>9.999998</td>\n",
       "      <td>6.852998</td>\n",
       "      <td>7.500000</td>\n",
       "      <td>6.348340</td>\n",
       "      <td>6.666666</td>\n",
       "      <td>7.508044</td>\n",
       "      <td>6.129050</td>\n",
       "      <td>6.403574</td>\n",
       "      <td>5.001796</td>\n",
       "    </tr>\n",
       "    <tr>\n",
       "      <th>74</th>\n",
       "      <td>10.00</td>\n",
       "      <td>6.666666</td>\n",
       "      <td>9.999998</td>\n",
       "      <td>10.000000</td>\n",
       "      <td>10.000000</td>\n",
       "      <td>6.666666</td>\n",
       "      <td>9.999998</td>\n",
       "      <td>10.000000</td>\n",
       "      <td>5.003946</td>\n",
       "      <td>4.962845</td>\n",
       "      <td>3.976994</td>\n",
       "    </tr>\n",
       "    <tr>\n",
       "      <th>75</th>\n",
       "      <td>3.75</td>\n",
       "      <td>3.333333</td>\n",
       "      <td>0.000000</td>\n",
       "      <td>0.000000</td>\n",
       "      <td>1.250000</td>\n",
       "      <td>3.333333</td>\n",
       "      <td>0.000000</td>\n",
       "      <td>0.000000</td>\n",
       "      <td>4.488636</td>\n",
       "      <td>4.897840</td>\n",
       "      <td>2.867566</td>\n",
       "    </tr>\n",
       "  </tbody>\n",
       "</table>\n",
       "<p>75 rows × 11 columns</p>\n",
       "</div>"
      ],
      "text/plain": [
       "       y1        y2        y3         y4         y5        y6        y7  \\\n",
       "1    2.50  0.000000  3.333333   0.000000   1.250000  0.000000  3.726360   \n",
       "2    1.25  0.000000  3.333333   0.000000   6.250000  1.100000  6.666666   \n",
       "3    7.50  8.800000  9.999998   9.199991   8.750000  8.094061  9.999998   \n",
       "4    8.90  8.800000  9.999998   9.199991   8.907948  8.127979  9.999998   \n",
       "5   10.00  3.333333  9.999998   6.666666   7.500000  3.333333  9.999998   \n",
       "..    ...       ...       ...        ...        ...       ...       ...   \n",
       "71   5.40  9.999998  6.666666   3.333333   3.750000  6.666666  6.666666   \n",
       "72   7.50  8.800000  9.999998   6.066666   7.500000  6.666666  9.999998   \n",
       "73   7.50  7.000000  9.999998   6.852998   7.500000  6.348340  6.666666   \n",
       "74  10.00  6.666666  9.999998  10.000000  10.000000  6.666666  9.999998   \n",
       "75   3.75  3.333333  0.000000   0.000000   1.250000  3.333333  0.000000   \n",
       "\n",
       "           y8        x1        x2        x3  \n",
       "1    3.333333  4.442651  3.637586  2.557615  \n",
       "2    0.736999  5.384495  5.062595  3.568079  \n",
       "3    8.211809  5.961005  6.255750  5.224433  \n",
       "4    4.615086  6.285998  7.567863  6.267495  \n",
       "5    6.666666  5.863631  6.818924  4.573679  \n",
       "..        ...       ...       ...       ...  \n",
       "71   1.485166  4.477337  3.091042  1.987909  \n",
       "72   6.666666  5.337538  5.631212  3.491004  \n",
       "73   7.508044  6.129050  6.403574  5.001796  \n",
       "74  10.000000  5.003946  4.962845  3.976994  \n",
       "75   0.000000  4.488636  4.897840  2.867566  \n",
       "\n",
       "[75 rows x 11 columns]"
      ]
     },
     "execution_count": 5,
     "metadata": {},
     "output_type": "execute_result"
    }
   ],
   "source": [
    "data"
   ]
  },
  {
   "cell_type": "markdown",
   "metadata": {},
   "source": [
    "Now, we can create an instant of *Model* from *model_desc* and load data into it."
   ]
  },
  {
   "cell_type": "code",
   "execution_count": 6,
   "metadata": {},
   "outputs": [],
   "source": [
    "from semopy import Model\n",
    "\n",
    "model = Model(model_desc)\n",
    "model.load_dataset(data)"
   ]
  },
  {
   "cell_type": "markdown",
   "metadata": {},
   "source": [
    "Now we can create an *Optimizer* by passing it *model*. In fact, we can create as many instances of *Optimizer* as we want. Each of them can perform an independent optimization sequence.\n",
    "Let's say that we want to see estimates provided by minimising Wishart Maximumul Likelihood Ratio, ULS and GLS:"
   ]
  },
  {
   "cell_type": "code",
   "execution_count": 7,
   "metadata": {},
   "outputs": [
    {
     "name": "stdout",
     "output_type": "stream",
     "text": [
      "Resultant objective functions values are:\n",
      "MLW: 0.508, ULS: 7.097, GLS: 0.972\n"
     ]
    }
   ],
   "source": [
    "from semopy import Optimizer\n",
    "\n",
    "opt_mlw = Optimizer(model)\n",
    "opt_uls = Optimizer(model)\n",
    "opt_gls = Optimizer(model)\n",
    "\n",
    "# And now, we run the optimisation sequences.\n",
    "lf_mlw = opt_mlw.optimize(objective='MLW') # Although MLW is default, we still provide it here for clarity.\n",
    "lf_uls = opt_uls.optimize(objective='ULS')\n",
    "lf_gls = opt_gls.optimize(objective='GLS')\n",
    "\n",
    "print('Resultant objective functions'' values are:')\n",
    "print('MLW: {:.3f}, ULS: {:.3f}, GLS: {:.3f}'.format(lf_mlw, lf_uls, lf_gls))"
   ]
  },
  {
   "cell_type": "markdown",
   "metadata": {},
   "source": [
    "Let's also try minimisng the MLW objective but instead of using default SLSQP nonlinear solver we will try using Adam with chunk_size=25 and num_epochs=1000:"
   ]
  },
  {
   "cell_type": "code",
   "execution_count": 8,
   "metadata": {},
   "outputs": [
    {
     "name": "stdout",
     "output_type": "stream",
     "text": [
      "MLW after Adam: 0.513\n"
     ]
    }
   ],
   "source": [
    "opt_mlw_adam = Optimizer(model)\n",
    "lf_mlw_adam = opt_mlw_adam.optimize(objective='MLW', method='Adam', chunk_size=25, num_epochs=1000)\n",
    "print('MLW after Adam: {:.3f}'.format(lf_mlw_adam))"
   ]
  },
  {
   "cell_type": "markdown",
   "metadata": {},
   "source": [
    "Take a notice that one can't compare results for the same model based on the value of different loss functions. Fit indices (we will compute then in the end of this notebook) are a valid measure.\n",
    "\n",
    "Also, it can be seen from the code above that we can in fact run another optimisation sequences for the same *Optimizer*, using previous parameters' estimates as starting values:"
   ]
  },
  {
   "cell_type": "code",
   "execution_count": 9,
   "metadata": {},
   "outputs": [
    {
     "name": "stdout",
     "output_type": "stream",
     "text": [
      "MLW after Adam after SLSQP: 0.508\n"
     ]
    }
   ],
   "source": [
    "lf_mlw_adam_slsqp = opt_mlw_adam.optimize(method='SLSQP')\n",
    "print('MLW after Adam after SLSQP: {:.3f}'.format(lf_mlw_adam_slsqp))"
   ]
  },
  {
   "cell_type": "markdown",
   "metadata": {},
   "source": [
    "The *inspector* module of **semopy** contains *inspect* method that is used to retrieve information on parameters' estimates in a user-friendly manner. It has two modes of display - 'list' (the default one) and 'mx'. Let's try the 'list' first:"
   ]
  },
  {
   "cell_type": "code",
   "execution_count": 10,
   "metadata": {},
   "outputs": [
    {
     "name": "stdout",
     "output_type": "stream",
     "text": [
      "     lval  op   rval     Value        SE    Z-score       P-value\n",
      "5   dem60  =~     y2  1.256759  0.182449   6.888264  5.647705e-12\n",
      "6   dem60  =~     y3  1.057701  0.151394   6.986417  2.819966e-12\n",
      "7   dem60  =~     y4  1.264819  0.145013   8.722092  0.000000e+00\n",
      "8   dem65  =~     y6  1.185704  0.168814   7.023728  2.160272e-12\n",
      "9   dem65  =~     y7  1.279501  0.159904   8.001694  1.332268e-15\n",
      "10  dem65  =~     y8  1.265968  0.158112   8.006805  1.110223e-15\n",
      "3   ind60  =~     x2  2.180344  0.138503  15.742231  0.000000e+00\n",
      "4   ind60  =~     x3  1.818498  0.151953  11.967497  0.000000e+00\n",
      "0   dem60   ~  ind60  1.482939  0.399133   3.715402  2.028809e-04\n",
      "1   dem65   ~  dem60  0.837351  0.098353   8.513720  0.000000e+00\n",
      "2   dem65   ~  ind60  0.572345  0.221309   2.586173  9.704827e-03\n",
      "11  dem60  ~~  dem60  3.955856  0.921163   4.294415  1.751547e-05\n",
      "12  dem65  ~~  dem65  0.172495  0.214804   0.803034  4.219551e-01\n",
      "13  ind60  ~~  ind60  0.448458  0.086695   5.172836  2.305675e-07\n",
      "14     x1  ~~     x1  0.081547  0.019489   4.184169  2.862111e-05\n",
      "15     x2  ~~     x2  0.119805  0.069719   1.718405  8.572272e-02\n",
      "16     x3  ~~     x3  0.466700  0.090156   5.176600  2.259654e-07\n",
      "17     y1  ~~     y1  1.891471  0.444437   4.255885  2.082241e-05\n",
      "18     y1  ~~     y5  0.623733  0.358328   1.740677  8.174024e-02\n",
      "19     y2  ~~     y2  7.373240  1.373958   5.366423  8.031342e-08\n",
      "20     y2  ~~     y4  1.313177  0.702006   1.870607  6.139960e-02\n",
      "21     y2  ~~     y6  2.153212  0.733814   2.934274  3.343286e-03\n",
      "22     y3  ~~     y3  5.068223  0.951841   5.324655  1.011451e-07\n",
      "23     y3  ~~     y7  0.795497  0.607756   1.308909  1.905652e-01\n",
      "24     y4  ~~     y4  3.147770  0.738798   4.260665  2.038198e-05\n",
      "25     y4  ~~     y8  0.347938  0.442228   0.786784  4.314086e-01\n",
      "26     y5  ~~     y5  2.350975  0.480240   4.895420  9.809624e-07\n",
      "27     y6  ~~     y6  4.954121  0.914275   5.418631  6.005717e-08\n",
      "28     y6  ~~     y8  1.356059  0.568279   2.386258  1.702082e-02\n",
      "29     y7  ~~     y7  3.431583  0.712867   4.813774  1.481062e-06\n",
      "30     y8  ~~     y8  3.253766  0.694578   4.684524  2.806113e-06\n"
     ]
    }
   ],
   "source": [
    "from semopy.inspector import inspect\n",
    "\n",
    "print(inspect(opt_mlw, mode='list'))"
   ]
  },
  {
   "cell_type": "markdown",
   "metadata": {},
   "source": [
    "We might also want to take a peek at starting values:"
   ]
  },
  {
   "cell_type": "code",
   "execution_count": 11,
   "metadata": {},
   "outputs": [
    {
     "name": "stdout",
     "output_type": "stream",
     "text": [
      "     lval  op   rval     Value         SE   Z-score   P-value\n",
      "5   dem60  =~     y2  0.908818  17.247656  0.052692  0.957977\n",
      "6   dem60  =~     y3  0.848845  12.967861  0.065458  0.947810\n",
      "7   dem60  =~     y4  0.885162  16.123320  0.054899  0.956219\n",
      "8   dem65  =~     y6  0.729128  14.418897  0.050568  0.959670\n",
      "9   dem65  =~     y7  0.852861  14.045512  0.060721  0.951581\n",
      "10  dem65  =~     y8  0.782249  14.947613  0.052333  0.958264\n",
      "3   ind60  =~     x2  1.843737   2.241495  0.822548  0.410765\n",
      "4   ind60  =~     x3  1.532953   1.802184  0.850609  0.394987\n",
      "0   dem60   ~  ind60  0.000000   1.134786  0.000000  1.000000\n",
      "1   dem65   ~  dem60  0.000000   4.275070  0.000000  1.000000\n",
      "2   dem65   ~  ind60  0.000000   1.162828  0.000000  1.000000\n",
      "11  dem60  ~~  dem60  0.050000   0.958579  0.052161  0.958401\n",
      "12  dem65  ~~  dem65  0.050000   1.004401  0.049781  0.960297\n",
      "13  ind60  ~~  ind60  0.050000   0.072395  0.690654  0.489783\n",
      "14     x1  ~~     x1  0.264993   0.079626  3.327970  0.000875\n",
      "15     x2  ~~     x2  1.125839   0.292281  3.851905  0.000117\n",
      "16     x3  ~~     x3  0.974839   0.223637  4.359017  0.000013\n",
      "17     y1  ~~     y1  3.393426   1.103101  3.076259  0.002096\n",
      "18     y1  ~~     y5  0.000000   0.446423  0.000000  1.000000\n",
      "19     y2  ~~     y2  7.686043   1.625789  4.727576  0.000002\n",
      "20     y2  ~~     y4  0.000000   1.078004  0.000000  1.000000\n",
      "21     y2  ~~     y6  0.000000   0.773770  0.000000  1.000000\n",
      "22     y3  ~~     y3  5.310362   1.106490  4.799284  0.000002\n",
      "23     y3  ~~     y7  0.000000   0.635465  0.000000  1.000000\n",
      "24     y4  ~~     y4  5.534673   1.267777  4.365651  0.000013\n",
      "25     y4  ~~     y8  0.000000   0.638796  0.000000  1.000000\n",
      "26     y5  ~~     y5  3.367340   1.141117  2.950917  0.003168\n",
      "27     y6  ~~     y6  5.611827   1.151422  4.873824  0.000001\n",
      "28     y6  ~~     y8  0.000000   0.846353  0.000000  1.000000\n",
      "29     y7  ~~     y7  5.327690   1.133960  4.698305  0.000003\n",
      "30     y8  ~~     y8  5.196710   1.126469  4.613274  0.000004\n"
     ]
    }
   ],
   "source": [
    "print(inspect(opt_mlw, mode='list', what='start'))"
   ]
  },
  {
   "cell_type": "markdown",
   "metadata": {},
   "source": [
    "The other mode of display is 'mx'. That's it, matrices with parameters values mapped to their positions will be printed:"
   ]
  },
  {
   "cell_type": "code",
   "execution_count": 12,
   "metadata": {},
   "outputs": [
    {
     "name": "stdout",
     "output_type": "stream",
     "text": [
      "Beta:\n",
      "          dem60  dem65     ind60\n",
      "dem60  0.000000    0.0  1.482939\n",
      "dem65  0.837351    0.0  0.572345\n",
      "ind60  0.000000    0.0  0.000000\n",
      "Lambda:\n",
      "       dem60     dem65     ind60\n",
      "x1  0.000000  0.000000  1.000000\n",
      "x2  0.000000  0.000000  2.180344\n",
      "x3  0.000000  0.000000  1.818498\n",
      "y1  1.000000  0.000000  0.000000\n",
      "y2  1.256759  0.000000  0.000000\n",
      "y3  1.057701  0.000000  0.000000\n",
      "y4  1.264819  0.000000  0.000000\n",
      "y5  0.000000  1.000000  0.000000\n",
      "y6  0.000000  1.185704  0.000000\n",
      "y7  0.000000  1.279501  0.000000\n",
      "y8  0.000000  1.265968  0.000000\n",
      "Psi:\n",
      "          dem60     dem65     ind60\n",
      "dem60  3.955856  0.000000  0.000000\n",
      "dem65  0.000000  0.172495  0.000000\n",
      "ind60  0.000000  0.000000  0.448458\n",
      "Theta:\n",
      "          x1        x2      x3        y1        y2        y3        y4  \\\n",
      "x1  0.081547  0.000000  0.0000  0.000000  0.000000  0.000000  0.000000   \n",
      "x2  0.000000  0.119805  0.0000  0.000000  0.000000  0.000000  0.000000   \n",
      "x3  0.000000  0.000000  0.4667  0.000000  0.000000  0.000000  0.000000   \n",
      "y1  0.000000  0.000000  0.0000  1.891471  0.000000  0.000000  0.000000   \n",
      "y2  0.000000  0.000000  0.0000  0.000000  7.373240  0.000000  1.313177   \n",
      "y3  0.000000  0.000000  0.0000  0.000000  0.000000  5.068223  0.000000   \n",
      "y4  0.000000  0.000000  0.0000  0.000000  1.313177  0.000000  3.147770   \n",
      "y5  0.000000  0.000000  0.0000  0.623733  0.000000  0.000000  0.000000   \n",
      "y6  0.000000  0.000000  0.0000  0.000000  2.153212  0.000000  0.000000   \n",
      "y7  0.000000  0.000000  0.0000  0.000000  0.000000  0.795497  0.000000   \n",
      "y8  0.000000  0.000000  0.0000  0.000000  0.000000  0.000000  0.347938   \n",
      "\n",
      "          y5        y6        y7        y8  \n",
      "x1  0.000000  0.000000  0.000000  0.000000  \n",
      "x2  0.000000  0.000000  0.000000  0.000000  \n",
      "x3  0.000000  0.000000  0.000000  0.000000  \n",
      "y1  0.623733  0.000000  0.000000  0.000000  \n",
      "y2  0.000000  2.153212  0.000000  0.000000  \n",
      "y3  0.000000  0.000000  0.795497  0.000000  \n",
      "y4  0.000000  0.000000  0.000000  0.347938  \n",
      "y5  2.350975  0.000000  0.000000  0.000000  \n",
      "y6  0.000000  4.954121  0.000000  1.356059  \n",
      "y7  0.000000  0.000000  3.431583  0.000000  \n",
      "y8  0.000000  1.356059  0.000000  3.253766  \n",
      "Sigma:\n",
      "          x1        x2        x3        y1         y2         y3         y4  \\\n",
      "x1  0.530005  0.977792  0.815519  0.665035   0.835789   0.703408   0.841149   \n",
      "x2  0.977792  2.251728  1.778113  1.450006   1.822308   1.533672   1.833994   \n",
      "x3  0.815519  1.778113  1.949720  1.209366   1.519882   1.279147   1.529628   \n",
      "y1  0.665035  1.450006  1.209366  6.833534   6.210984   5.227224   6.250813   \n",
      "y2  0.835789  1.822308  1.519882  6.210984  15.178953   6.569363   9.168944   \n",
      "y3  0.703408  1.533672  1.279147  5.227224   6.569363  10.597062   6.611490   \n",
      "y4  0.841149  1.833994  1.529628  6.250813   9.168944   6.611490  11.053914   \n",
      "y5  0.813540  1.773797  1.479422  5.142603   5.679133   4.779613   5.715551   \n",
      "y6  0.964618  2.103198  1.754156  5.358042   8.886981   5.667205   6.776950   \n",
      "y7  1.040925  2.269575  1.892921  5.781898   7.266455   6.911015   7.313052   \n",
      "y8  1.029916  2.245572  1.872901  5.720747   7.189603   6.050839   7.583645   \n",
      "\n",
      "          y5         y6         y7         y8  \n",
      "x1  0.813540   0.964618   1.040925   1.029916  \n",
      "x2  1.773797   2.103198   2.269575   2.245572  \n",
      "x3  1.479422   1.754156   1.892921   1.872901  \n",
      "y1  5.142603   5.358042   5.781898   5.720747  \n",
      "y2  5.679133   8.886981   7.266455   7.189603  \n",
      "y3  4.779613   5.667205   6.911015   6.050839  \n",
      "y4  5.715551   6.776950   7.313052   7.583645  \n",
      "y5  6.772975   5.243182   5.657953   5.598113  \n",
      "y6  5.243182  11.170982   6.708656   7.993763  \n",
      "y7  5.657953   6.708656  10.670939   7.162790  \n",
      "y8  5.598113   7.993763   7.162790  10.340800  \n",
      "Cov:\n",
      "          x1        x2        x3        y1         y2         y3         y4  \\\n",
      "x1  0.529987  0.977156  0.812445  0.724601   0.611236   0.776387   1.135122   \n",
      "x2  0.977156  2.251679  1.782009  1.256415   1.471389   1.531243   2.211078   \n",
      "x3  0.812445  1.782009  1.949677  0.899302   1.154216   1.025225   1.813516   \n",
      "y1  0.724601  1.256415  0.899302  6.786852   6.168014   5.760984   6.007461   \n",
      "y2  0.611236  1.471389  1.154216  6.168014  15.372085   5.760777   9.381773   \n",
      "y3  0.776387  1.531243  1.025225  5.760984   5.760777  10.620724   6.598764   \n",
      "y4  1.135122  2.211078  1.813516  6.007461   9.381773   6.598764  11.069346   \n",
      "y5  1.067204  2.036216  1.562352  4.996293   5.528365   4.873173   5.626031   \n",
      "y6  0.841418  1.781413  1.551105  5.669215   9.261139   4.664364   7.342953   \n",
      "y7  0.924346  1.968987  1.604274  5.734451   7.434989   6.913016   7.388159   \n",
      "y8  1.088176  2.204447  1.669595  5.595444   7.654770   5.563951   7.905811   \n",
      "\n",
      "          y5         y6         y7         y8  \n",
      "x1  1.067204   0.841418   0.924346   1.088176  \n",
      "x2  2.036216   1.781413   1.968987   2.204447  \n",
      "x3  1.562352   1.551105   1.604274   1.669595  \n",
      "y1  4.996293   5.669215   5.734451   5.595444  \n",
      "y2  5.528365   9.261139   7.434989   7.654770  \n",
      "y3  4.873173   4.664364   6.913016   5.563951  \n",
      "y4  5.626031   7.342953   7.388159   7.905811  \n",
      "y5  6.734681   4.910447   5.743748   5.268194  \n",
      "y6  4.910447  11.223654   6.658144   8.136872  \n",
      "y7  5.743748   6.658144  10.655380   7.491201  \n",
      "y8  5.268194   8.136872   7.491201  10.393420  \n",
      "[('Beta',           dem60  dem65     ind60\n",
      "dem60  0.000000    0.0  1.482939\n",
      "dem65  0.837351    0.0  0.572345\n",
      "ind60  0.000000    0.0  0.000000), ('Lambda',        dem60     dem65     ind60\n",
      "x1  0.000000  0.000000  1.000000\n",
      "x2  0.000000  0.000000  2.180344\n",
      "x3  0.000000  0.000000  1.818498\n",
      "y1  1.000000  0.000000  0.000000\n",
      "y2  1.256759  0.000000  0.000000\n",
      "y3  1.057701  0.000000  0.000000\n",
      "y4  1.264819  0.000000  0.000000\n",
      "y5  0.000000  1.000000  0.000000\n",
      "y6  0.000000  1.185704  0.000000\n",
      "y7  0.000000  1.279501  0.000000\n",
      "y8  0.000000  1.265968  0.000000), ('Psi',           dem60     dem65     ind60\n",
      "dem60  3.955856  0.000000  0.000000\n",
      "dem65  0.000000  0.172495  0.000000\n",
      "ind60  0.000000  0.000000  0.448458), ('Theta',           x1        x2      x3        y1        y2        y3        y4  \\\n",
      "x1  0.081547  0.000000  0.0000  0.000000  0.000000  0.000000  0.000000   \n",
      "x2  0.000000  0.119805  0.0000  0.000000  0.000000  0.000000  0.000000   \n",
      "x3  0.000000  0.000000  0.4667  0.000000  0.000000  0.000000  0.000000   \n",
      "y1  0.000000  0.000000  0.0000  1.891471  0.000000  0.000000  0.000000   \n",
      "y2  0.000000  0.000000  0.0000  0.000000  7.373240  0.000000  1.313177   \n",
      "y3  0.000000  0.000000  0.0000  0.000000  0.000000  5.068223  0.000000   \n",
      "y4  0.000000  0.000000  0.0000  0.000000  1.313177  0.000000  3.147770   \n",
      "y5  0.000000  0.000000  0.0000  0.623733  0.000000  0.000000  0.000000   \n",
      "y6  0.000000  0.000000  0.0000  0.000000  2.153212  0.000000  0.000000   \n",
      "y7  0.000000  0.000000  0.0000  0.000000  0.000000  0.795497  0.000000   \n",
      "y8  0.000000  0.000000  0.0000  0.000000  0.000000  0.000000  0.347938   \n",
      "\n",
      "          y5        y6        y7        y8  \n",
      "x1  0.000000  0.000000  0.000000  0.000000  \n",
      "x2  0.000000  0.000000  0.000000  0.000000  \n",
      "x3  0.000000  0.000000  0.000000  0.000000  \n",
      "y1  0.623733  0.000000  0.000000  0.000000  \n",
      "y2  0.000000  2.153212  0.000000  0.000000  \n",
      "y3  0.000000  0.000000  0.795497  0.000000  \n",
      "y4  0.000000  0.000000  0.000000  0.347938  \n",
      "y5  2.350975  0.000000  0.000000  0.000000  \n",
      "y6  0.000000  4.954121  0.000000  1.356059  \n",
      "y7  0.000000  0.000000  3.431583  0.000000  \n",
      "y8  0.000000  1.356059  0.000000  3.253766  ), ('Sigma',           x1        x2        x3        y1         y2         y3         y4  \\\n",
      "x1  0.530005  0.977792  0.815519  0.665035   0.835789   0.703408   0.841149   \n",
      "x2  0.977792  2.251728  1.778113  1.450006   1.822308   1.533672   1.833994   \n",
      "x3  0.815519  1.778113  1.949720  1.209366   1.519882   1.279147   1.529628   \n",
      "y1  0.665035  1.450006  1.209366  6.833534   6.210984   5.227224   6.250813   \n",
      "y2  0.835789  1.822308  1.519882  6.210984  15.178953   6.569363   9.168944   \n",
      "y3  0.703408  1.533672  1.279147  5.227224   6.569363  10.597062   6.611490   \n",
      "y4  0.841149  1.833994  1.529628  6.250813   9.168944   6.611490  11.053914   \n",
      "y5  0.813540  1.773797  1.479422  5.142603   5.679133   4.779613   5.715551   \n",
      "y6  0.964618  2.103198  1.754156  5.358042   8.886981   5.667205   6.776950   \n",
      "y7  1.040925  2.269575  1.892921  5.781898   7.266455   6.911015   7.313052   \n",
      "y8  1.029916  2.245572  1.872901  5.720747   7.189603   6.050839   7.583645   \n",
      "\n",
      "          y5         y6         y7         y8  \n",
      "x1  0.813540   0.964618   1.040925   1.029916  \n",
      "x2  1.773797   2.103198   2.269575   2.245572  \n",
      "x3  1.479422   1.754156   1.892921   1.872901  \n",
      "y1  5.142603   5.358042   5.781898   5.720747  \n",
      "y2  5.679133   8.886981   7.266455   7.189603  \n",
      "y3  4.779613   5.667205   6.911015   6.050839  \n",
      "y4  5.715551   6.776950   7.313052   7.583645  \n",
      "y5  6.772975   5.243182   5.657953   5.598113  \n",
      "y6  5.243182  11.170982   6.708656   7.993763  \n",
      "y7  5.657953   6.708656  10.670939   7.162790  \n",
      "y8  5.598113   7.993763   7.162790  10.340800  ), ('Cov',           x1        x2        x3        y1         y2         y3         y4  \\\n",
      "x1  0.529987  0.977156  0.812445  0.724601   0.611236   0.776387   1.135122   \n",
      "x2  0.977156  2.251679  1.782009  1.256415   1.471389   1.531243   2.211078   \n",
      "x3  0.812445  1.782009  1.949677  0.899302   1.154216   1.025225   1.813516   \n",
      "y1  0.724601  1.256415  0.899302  6.786852   6.168014   5.760984   6.007461   \n",
      "y2  0.611236  1.471389  1.154216  6.168014  15.372085   5.760777   9.381773   \n",
      "y3  0.776387  1.531243  1.025225  5.760984   5.760777  10.620724   6.598764   \n",
      "y4  1.135122  2.211078  1.813516  6.007461   9.381773   6.598764  11.069346   \n",
      "y5  1.067204  2.036216  1.562352  4.996293   5.528365   4.873173   5.626031   \n",
      "y6  0.841418  1.781413  1.551105  5.669215   9.261139   4.664364   7.342953   \n",
      "y7  0.924346  1.968987  1.604274  5.734451   7.434989   6.913016   7.388159   \n",
      "y8  1.088176  2.204447  1.669595  5.595444   7.654770   5.563951   7.905811   \n",
      "\n",
      "          y5         y6         y7         y8  \n",
      "x1  1.067204   0.841418   0.924346   1.088176  \n",
      "x2  2.036216   1.781413   1.968987   2.204447  \n",
      "x3  1.562352   1.551105   1.604274   1.669595  \n",
      "y1  4.996293   5.669215   5.734451   5.595444  \n",
      "y2  5.528365   9.261139   7.434989   7.654770  \n",
      "y3  4.873173   4.664364   6.913016   5.563951  \n",
      "y4  5.626031   7.342953   7.388159   7.905811  \n",
      "y5  6.734681   4.910447   5.743748   5.268194  \n",
      "y6  4.910447  11.223654   6.658144   8.136872  \n",
      "y7  5.743748   6.658144  10.655380   7.491201  \n",
      "y8  5.268194   8.136872   7.491201  10.393420  )]\n"
     ]
    }
   ],
   "source": [
    "print(inspect(opt_mlw, mode='mx'))"
   ]
  },
  {
   "cell_type": "markdown",
   "metadata": {},
   "source": [
    "The *stats* module has various methods to calculate statistics and fit indices. However, there is a method *gather_statistics* that invokes them all:"
   ]
  },
  {
   "cell_type": "code",
   "execution_count": 13,
   "metadata": {},
   "outputs": [
    {
     "name": "stdout",
     "output_type": "stream",
     "text": [
      "SEMStatistics(dof=35.0, ml=-1547.7909442514658, fit_val=0.5083362656743571, chi2=(38.12521992557678, 0.3291802839852196), dof_baseline=55.0, chi2_baseline=730.6540868219107, rmsea=0.03473684815745109, cfi=0.9953745267193204, gfi=0.947820424721898, agfi=0.9180035245629825, nfi=0.947820424721898, tli=0.9927313991303606, aic=3157.5818885029316, bic=3229.424020022557, params=[ParametersStatistics(value=1.4829393106346211, se=0.39913293740914707, zscore=3.715401991769875, pvalue=0.00020288089332520798), ParametersStatistics(value=0.8373509275114405, se=0.09835312202791924, zscore=8.513719851874454, pvalue=0.0), ParametersStatistics(value=0.5723445128998598, se=0.221309464452289, zscore=2.5861727798842624, pvalue=0.009704826892058538), ParametersStatistics(value=2.1803438171350416, se=0.1385028495837257, zscore=15.742230745954942, pvalue=0.0), ParametersStatistics(value=1.8184982814238366, se=0.15195310251261168, zscore=11.967496887804176, pvalue=0.0), ParametersStatistics(value=1.256759361724808, se=0.18244935480776364, zscore=6.88826421470273, pvalue=5.647704526268171e-12), ParametersStatistics(value=1.0577007694216294, se=0.15139387643049942, zscore=6.98641711509516, pvalue=2.8199664825478976e-12), ParametersStatistics(value=1.2648185277169874, se=0.14501320326668857, zscore=8.72209219033789, pvalue=0.0), ParametersStatistics(value=1.1857037308364573, se=0.16881400544834368, zscore=7.023728438173061, pvalue=2.1602719613156296e-12), ParametersStatistics(value=1.2795008220054804, se=0.15990373667057517, zscore=8.001694323338018, pvalue=1.3322676295501878e-15), ParametersStatistics(value=1.2659684539100946, se=0.1581115619947556, zscore=8.006805055433446, pvalue=1.1102230246251565e-15), ParametersStatistics(value=3.9558559925432237, se=0.9211629767280773, zscore=4.294414878233516, pvalue=1.751546664241488e-05), ParametersStatistics(value=0.1724947850416724, se=0.214803836663444, zscore=0.8030340040487046, pvalue=0.4219550807763457), ParametersStatistics(value=0.4484575871071234, se=0.08669472501398427, zscore=5.172835913945309, pvalue=2.305674793312562e-07), ParametersStatistics(value=0.0815471320924024, se=0.019489445060072934, zscore=4.184169012348116, pvalue=2.8621112059701304e-05), ParametersStatistics(value=0.11980537424962238, se=0.06971892966884675, zscore=1.7184052425497558, pvalue=0.08572272477242526), ParametersStatistics(value=0.46669993405227495, se=0.09015568057583917, zscore=5.176600421251429, pvalue=2.259654499070507e-07), ParametersStatistics(value=1.8914711393028178, se=0.44443666388531194, zscore=4.255884568035236, pvalue=2.0822412156284997e-05), ParametersStatistics(value=0.6237329542259568, se=0.35832783149542635, zscore=1.7406768311050864, pvalue=0.08174024169800265), ParametersStatistics(value=7.373240415843522, se=1.373958089380921, zscore=5.366423090212596, pvalue=8.031342346725978e-08), ParametersStatistics(value=1.3131766393442805, se=0.7020057044628293, zscore=1.8706067927856016, pvalue=0.06139960238784026), ParametersStatistics(value=2.1532121613918136, se=0.733814201402907, zscore=2.9342743125880713, pvalue=0.0033432859080486654), ParametersStatistics(value=5.068223403583474, se=0.9518407967040841, zscore=5.324654523243554, pvalue=1.0114508874892181e-07), ParametersStatistics(value=0.795496655606681, se=0.6077555703317182, zscore=1.3089088680358507, pvalue=0.19056522232675688), ParametersStatistics(value=3.1477701462997074, se=0.7387979019123418, zscore=4.260664707016086, pvalue=2.0381981199912858e-05), ParametersStatistics(value=0.3479376735749159, se=0.44222795309689983, zscore=0.7867835380770015, pvalue=0.4314085917415196), ParametersStatistics(value=2.3509746907489215, se=0.48023967827555963, zscore=4.89541951049502, pvalue=9.809623691126035e-07), ParametersStatistics(value=4.954121044355094, se=0.914275425344651, zscore=5.418630870978665, pvalue=6.005716945978179e-08), ParametersStatistics(value=1.3560594764152538, se=0.5682787063185611, zscore=2.386257766365609, pvalue=0.017020816282198536), ParametersStatistics(value=3.431582898589788, se=0.7128674522354039, zscore=4.813774128450169, pvalue=1.48106200192899e-06), ParametersStatistics(value=3.253765674317903, se=0.6945776546025904, zscore=4.684523973312809, pvalue=2.8061132402168454e-06)])\n"
     ]
    }
   ],
   "source": [
    "from semopy.stats import gather_statistics\n",
    "\n",
    "s = gather_statistics(opt_mlw)\n",
    "print(s)"
   ]
  },
  {
   "cell_type": "markdown",
   "metadata": {},
   "source": [
    "A particular fit index/statistic can be invoked from *stats* module directly avoiding excess computations. For instance, let's say we want to calculate a GFI:"
   ]
  },
  {
   "cell_type": "code",
   "execution_count": 11,
   "metadata": {},
   "outputs": [
    {
     "name": "stdout",
     "output_type": "stream",
     "text": [
      "0.6844663290821422\n",
      "MLW: 0.948, ULS: 0.997, GLS: 0.684, MLW after Adam after SLSQP: 0.948\n"
     ]
    }
   ],
   "source": [
    "from semopy.stats import calc_gfi\n",
    "\n",
    "print(calc_gfi(opt_gls))\n",
    "print('MLW: {:.3f}, ULS: {:.3f}, GLS: {:.3f}, MLW after Adam after SLSQP: {:.3f}'.format(calc_gfi(opt_mlw),\n",
    "                                                                                         calc_gfi(opt_uls),\n",
    "                                                                                         calc_gfi(opt_gls),\n",
    "                                                                                         calc_gfi(opt_mlw_adam)))"
   ]
  }
 ],
 "metadata": {
  "kernelspec": {
   "display_name": "Python 3",
   "language": "python",
   "name": "python3"
  },
  "language_info": {
   "codemirror_mode": {
    "name": "ipython",
    "version": 3
   },
   "file_extension": ".py",
   "mimetype": "text/x-python",
   "name": "python",
   "nbconvert_exporter": "python",
   "pygments_lexer": "ipython3",
   "version": "3.7.1"
  },
  "toc": {
   "base_numbering": 1,
   "nav_menu": {},
   "number_sections": true,
   "sideBar": true,
   "skip_h1_title": false,
   "title_cell": "Table of Contents",
   "title_sidebar": "Contents",
   "toc_cell": true,
   "toc_position": {},
   "toc_section_display": true,
   "toc_window_display": false
  },
  "varInspector": {
   "cols": {
    "lenName": "30",
    "lenType": "10",
    "lenVar": "41"
   },
   "kernels_config": {
    "python": {
     "delete_cmd_postfix": "",
     "delete_cmd_prefix": "del ",
     "library": "var_list.py",
     "varRefreshCmd": "print(var_dic_list())"
    },
    "r": {
     "delete_cmd_postfix": ") ",
     "delete_cmd_prefix": "rm(",
     "library": "var_list.r",
     "varRefreshCmd": "cat(var_dic_list()) "
    }
   },
   "types_to_exclude": [
    "module",
    "function",
    "builtin_function_or_method",
    "instance",
    "_Feature"
   ],
   "window_display": false
  }
 },
 "nbformat": 4,
 "nbformat_minor": 2
}
